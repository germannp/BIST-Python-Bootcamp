{
 "cells": [
  {
   "cell_type": "markdown",
   "metadata": {
    "deletable": true,
    "editable": true
   },
   "source": [
    "1. Introduction\n",
    "===============\n",
    "\n",
    "Making nice plots is an involved and painful task. A few paradigms emerged over the decades, each with its own advantages and disadvantages. Restricting to plotting functions and statistical data, R as a language for statistical processing is popular in no small part due to its plotting module, [ggplot2](http://ggplot2.tidyverse.org/), which implements a school of plotting called *grammar of graphics*. This is a *declarative* approach, subsequent statements added to the plot define the final looks. On the other hand, Python's main plotting module, a behemoth called [Matplotlib](http://matplotlib.org/), is *object-oriented*: the figure is made up of a hierarchy of classes, and the properties of these will decide the look of the final image. Matplotlib is complex and you will often get the impression that it was designed to make plotting simple things difficult, and its default settings do not produce the most beautiful plots on the planet. The module [Seaborn](http://seaborn.pydata.org/) wraps around Matplotlib, and for a restricted set of plot types, it makes your task very easy. It also changes the horrific defaults of Matplotlib, so importing will change the look of all of your plots, whether they were done with Matplotlib calls or with Seaborn. This is why we did not import it in the first cell of this notebook. Seaborn also makes plotting statistical data easy and it interoperates marvellously with the statistical package [Pandas](http://pandas.pydata.org/). Python also has modules for *declarative plotting*; try [Altair](https://altair-viz.github.io/), and see [this write-up](https://dansaber.wordpress.com/2016/10/02/a-dramatic-tour-through-pythons-data-visualization-landscape-including-ggplot-and-altair/) why it is interesting in the first place. Here we will discuss only the object-oriented approach of Matplotlib and Seaborn.\n",
    "\n",
    "First, as usual, we load the corresponding libraries. For this part we will use, apart from Matplotlib and Seaborn, Numpy for handling arrays and operations, and Pandas for dataset manipulations."
   ]
  },
  {
   "cell_type": "code",
   "execution_count": null,
   "metadata": {
    "ExecuteTime": {
     "end_time": "2017-03-21T19:41:28.876636Z",
     "start_time": "2017-03-21T20:41:28.014650+01:00"
    },
    "collapsed": false,
    "deletable": true,
    "editable": true
   },
   "outputs": [],
   "source": [
    "import matplotlib\n",
    "import matplotlib.pyplot as plt\n",
    "import numpy as np\n",
    "import pandas as pd\n",
    "%matplotlib inline\n",
    "print(\"Matplotlib:\", matplotlib.__version__)"
   ]
  },
  {
   "cell_type": "markdown",
   "metadata": {
    "deletable": true,
    "editable": true
   },
   "source": [
    "Notice the line that starts with %. This is a 'magic command' specific to Jupyter. It ensures that images will be plotted inline, instead of popping up in a window. You can look at all magic commands by entering `%quickref`. Some are useful, although most of them are not. The magic commands are not part of Python, so calling them in a script will throw an error. Keep this in mind when you copy code from a notebook.\n",
    "\n",
    "Also, note that we have not imported Seaborn yet, for the reasons mentioned above."
   ]
  },
  {
   "cell_type": "markdown",
   "metadata": {
    "deletable": true,
    "editable": true
   },
   "source": [
    "2. Plotting\n",
    "=====\n",
    "\n",
    "Now we can get to business. We begin with Matplotlib to show the basic features of plotting, and then we focus on Seaborn and its data analysis tools.\n",
    "\n",
    "2.1 Matplotlib\n",
    "----------------\n",
    "**2.1.1 The basics**\n",
    "\n",
    "This is the bare minimum you need to plot a function:"
   ]
  },
  {
   "cell_type": "code",
   "execution_count": null,
   "metadata": {
    "collapsed": false,
    "deletable": true,
    "editable": true
   },
   "outputs": [],
   "source": [
    "x = np.linspace(0, 5, 5)\n",
    "plt.plot(x, x**2);"
   ]
  },
  {
   "cell_type": "markdown",
   "metadata": {
    "deletable": true,
    "editable": true
   },
   "source": [
    "We imported the module `matplotlib.plot` as `plt`, and we call a function of it called `plot` to plot the square function. You always plot discrete points: `x` is a numpy array containing five points as a linear approximation between zero and five. On closer inspection, the curve is not smooth: this is because five points are not enough for the illusion of smoothness. Let us add some more points, labels for the axes, and a title for the figure:"
   ]
  },
  {
   "cell_type": "code",
   "execution_count": null,
   "metadata": {
    "collapsed": false,
    "deletable": true,
    "editable": true
   },
   "outputs": [],
   "source": [
    "x = np.linspace(0, 5, 100)\n",
    "y = x**2\n",
    "plt.plot(x, y)\n",
    "plt.xlabel('x')\n",
    "plt.ylabel('y')\n",
    "plt.title('The most exciting function ever, full stop.');"
   ]
  },
  {
   "cell_type": "markdown",
   "metadata": {
    "deletable": true,
    "editable": true
   },
   "source": [
    "The order in which you add the decorations to your figure does not matter. Everything that you write to appear in the cell will appear. This is because the execution of the cell triggers the call of the function `plt.show()`, which instructs Matplotlib to draw the figure *and* display it. In a Python script, you would always call `plt.show()` manually. Let us plot the cube function too, and call `plt.show()` manually:"
   ]
  },
  {
   "cell_type": "code",
   "execution_count": null,
   "metadata": {
    "collapsed": false,
    "deletable": true,
    "editable": true
   },
   "outputs": [],
   "source": [
    "x = np.linspace(0, 5, 100)\n",
    "y1 = x**2\n",
    "y2 = x**3\n",
    "plt.plot(x, y1)\n",
    "plt.plot(x, y2)\n",
    "plt.xlabel('x')\n",
    "plt.ylabel('y')\n",
    "plt.show()"
   ]
  },
  {
   "cell_type": "markdown",
   "metadata": {
    "deletable": true,
    "editable": true
   },
   "source": [
    "Notice the difference with this case:"
   ]
  },
  {
   "cell_type": "code",
   "execution_count": null,
   "metadata": {
    "collapsed": false,
    "deletable": true,
    "editable": true
   },
   "outputs": [],
   "source": [
    "plt.plot(x, y1)\n",
    "plt.xlabel('x')\n",
    "plt.ylabel('y')\n",
    "plt.show()\n",
    "plt.xlabel('same x')\n",
    "plt.plot(x, y2)\n",
    "plt.show()"
   ]
  },
  {
   "cell_type": "markdown",
   "metadata": {
    "deletable": true,
    "editable": true
   },
   "source": [
    "The `plt.show()` resets all settings after displaying, so for the second figure, you must set the axes again (note the difference in axes labels)\n",
    "\n",
    "Instead of showing the plot on the screen, you can write them to a file, which will also trigger Matplotlib to draw the figure. If you export it to PDF, it will be as scale-invariant as it can possibly be."
   ]
  },
  {
   "cell_type": "code",
   "execution_count": null,
   "metadata": {
    "collapsed": false,
    "deletable": true,
    "editable": true
   },
   "outputs": [],
   "source": [
    "plt.plot(x, y1)\n",
    "plt.xlabel('x')\n",
    "plt.ylabel('y')\n",
    "plt.savefig(\"whatever.pdf\")\n",
    "plt.close()"
   ]
  },
  {
   "cell_type": "markdown",
   "metadata": {
    "deletable": true,
    "editable": true
   },
   "source": [
    "You should find the plot right in the directory of the notebook."
   ]
  },
  {
   "cell_type": "markdown",
   "metadata": {
    "deletable": true,
    "editable": true
   },
   "source": [
    "**2.1.2 Object-oriented paradigm**\n",
    "\n",
    "The image that you see displayed is composed of a hierarchical structure of components. On the top level, it is an instance of the `Figure` class. This is what `plt.plot()` creates for you, with all the other underlying structures within; this function is for your convenience to avoid dealing with classes if you want a simple plot. The structures in the hierarchy include the area where you draw, which is technically called the `Axes` class. You may have more than one `Axes` if you have subplots or embedded plots. `Axes` than have x and y axes, which in turn have a scale, ticks, labels, and so on. If you have a single `Axes` class instantiated, like in the examples below, you can access and change most parts of the hierarchy like you did above with the x and y labels and the figure title. If you want to do anything non-trivial, you have to compose the figure and its components yourself. The examples in this section are mainly from [this tutorial](https://nbviewer.jupyter.org/github/jrjohansson/scientific-python-lectures/blob/master/Lecture-4-Matplotlib.ipynb). A more detailed version of the plot of the square function is:"
   ]
  },
  {
   "cell_type": "code",
   "execution_count": null,
   "metadata": {
    "collapsed": false,
    "deletable": true,
    "editable": true
   },
   "outputs": [],
   "source": [
    "fig = plt.figure()\n",
    "ax = fig.add_subplot(111)\n",
    "ax.plot(x, y)\n",
    "ax.set_xlabel('x')\n",
    "ax.set_ylabel('y')\n",
    "plt.show()"
   ]
  },
  {
   "cell_type": "markdown",
   "metadata": {
    "deletable": true,
    "editable": true
   },
   "source": [
    "Armed with this knowledge, we can do inserts:"
   ]
  },
  {
   "cell_type": "code",
   "execution_count": null,
   "metadata": {
    "collapsed": false,
    "deletable": true,
    "editable": true
   },
   "outputs": [],
   "source": [
    "fig = plt.figure()\n",
    "axes1 = fig.add_axes([0.1, 0.1, 0.8, 0.8]) # main axes. The structure is [left, bottom, width, height]\n",
    "axes2 = fig.add_axes([0.2, 0.5, 0.4, 0.3]) # insert axes\n",
    "\n",
    "# main figure\n",
    "axes1.plot(x, y1, 'r')\n",
    "axes1.set_xlabel('x')\n",
    "axes1.set_ylabel('y')\n",
    "axes1.set_title('Square function in red')\n",
    "\n",
    "# insert\n",
    "axes2.plot(x, y2, 'b')\n",
    "axes2.set_xlabel('x')\n",
    "axes2.set_ylabel('y')\n",
    "axes2.set_title('Cube function in blue')\n",
    "plt.show()"
   ]
  },
  {
   "cell_type": "markdown",
   "metadata": {
    "deletable": true,
    "editable": true
   },
   "source": [
    "You can also do aribtrary grids of subplots. The function `plt.subplots` conveniently creates you the figure object and returns it to you along with the axes:"
   ]
  },
  {
   "cell_type": "code",
   "execution_count": null,
   "metadata": {
    "collapsed": false,
    "deletable": true,
    "editable": true
   },
   "outputs": [],
   "source": [
    "fig, axes = plt.subplots(ncols=2)\n",
    "y = [y1, y2]\n",
    "labels = [\"Square function\", \"Cube function\"]\n",
    "colors = ['r', 'b']\n",
    "for i, ax in enumerate(axes):\n",
    "    ax.plot(x, y[i], colors[i])\n",
    "    ax.set_xlabel('x')\n",
    "    ax.set_ylabel('y')\n",
    "    ax.set_title(labels[i])  \n",
    "fig.tight_layout()    # Option to prevent overlapping of the plots\n",
    "plt.show()"
   ]
  },
  {
   "cell_type": "markdown",
   "metadata": {
    "deletable": true,
    "editable": true
   },
   "source": [
    "An always useful thing is to label different plots on the same figure and display the legend with the corresponding labels. The easiest way to do this is assigning a label to each of the plots when calling the `plot()` function, and at the end of the image calling the function `legend()`:"
   ]
  },
  {
   "cell_type": "code",
   "execution_count": null,
   "metadata": {
    "collapsed": false,
    "deletable": true,
    "editable": true,
    "scrolled": true
   },
   "outputs": [],
   "source": [
    "fig, ax = plt.subplots()    # Equivalent way of calling fig = plt.figure() and ax = fig.add_subplot(111)\n",
    "ax.plot(x, y1, label='Square')\n",
    "ax.plot(x, y2, label='Cube')\n",
    "ax.legend(loc=2) # Location of the legend can be modified with this parameter\n",
    "ax.set_xlabel('x')\n",
    "ax.set_ylabel('y')\n",
    "ax.set_title('Legends')\n",
    "plt.show()"
   ]
  },
  {
   "cell_type": "markdown",
   "metadata": {
    "deletable": true,
    "editable": true
   },
   "source": [
    "Error bars can be added in both the $x$ and $y$ axes. This is achieved using the `errorbar` function"
   ]
  },
  {
   "cell_type": "code",
   "execution_count": null,
   "metadata": {
    "collapsed": false,
    "deletable": true,
    "editable": true
   },
   "outputs": [],
   "source": [
    "xs = np.linspace(1, 5, 5)\n",
    "ys = xs ** 2\n",
    "xerr = 1 / np.sqrt(xs)\n",
    "yerr = xs ** (1 / 3) + [0.2 for _ in xs]\n",
    "\n",
    "fig, ax = plt.subplots()\n",
    "ax.errorbar(xs, ys, xerr=xerr, yerr=yerr, ls='none', fmt='o')    # ls gives us the line style, fmt gives the format\n",
    "ax.set_yscale('log')\n",
    "plt.show()"
   ]
  },
  {
   "cell_type": "markdown",
   "metadata": {
    "deletable": true,
    "editable": true
   },
   "source": [
    "Matplotlib can also handle LaTeX formulas and font changes. LaTeX formulas need to be enclosed in $$, preceded by an `r` to avoid problems with backslashes. For global font changes, one has to update the Matplotlib configuration parameters. TeX can be used to process all the text in the figure as well, although a TeX compiler is needed in this case."
   ]
  },
  {
   "cell_type": "code",
   "execution_count": null,
   "metadata": {
    "collapsed": false,
    "deletable": true,
    "editable": true
   },
   "outputs": [],
   "source": [
    "# Update the matplotlib configuration parameters:\n",
    "\n",
    "matplotlib.rcParams.update({'font.size': 18, 'font.family': 'serif'})\n",
    "\n",
    "fig, ax = plt.subplots()\n",
    "ax.plot(x, y1, label=r\"$y = x^2$\")\n",
    "ax.plot(x, y2, label=r\"$y = x^3$\")\n",
    "ax.legend(loc=2) # upper left corner\n",
    "ax.set_xlabel(r'$x$')\n",
    "ax.set_ylabel(r'$y$')\n",
    "ax.set_title('Plot title')\n",
    "plt.show()\n",
    "\n",
    "matplotlib.rcParams.update({'font.size': 18, 'text.usetex': True})\n",
    "\n",
    "fig, ax = plt.subplots()\n",
    "ax.plot(x, y1, label=r\"$y = x^2$\")\n",
    "ax.plot(x, y2, label=r\"$y = x^3$\")\n",
    "ax.legend(loc=2) # upper left corner\n",
    "ax.set_xlabel(r'$x$')\n",
    "ax.set_ylabel(r'$y$')\n",
    "ax.set_title('Plot title')\n",
    "plt.show()\n",
    "\n",
    "# Restore to defalut\n",
    "matplotlib.rcParams.update({'font.size': 12, 'font.family': 'sans', 'text.usetex': False})"
   ]
  },
  {
   "cell_type": "markdown",
   "metadata": {
    "deletable": true,
    "editable": true
   },
   "source": [
    "Matplotlib can also handle 3-dimensional plots. For that we need to import the 3-dimensional axes submodule"
   ]
  },
  {
   "cell_type": "code",
   "execution_count": null,
   "metadata": {
    "collapsed": true,
    "deletable": true,
    "editable": true
   },
   "outputs": [],
   "source": [
    "from mpl_toolkits.mplot3d.axes3d import Axes3D"
   ]
  },
  {
   "cell_type": "markdown",
   "metadata": {
    "deletable": true,
    "editable": true
   },
   "source": [
    "And now we can, for instance, plot surfaces"
   ]
  },
  {
   "cell_type": "code",
   "execution_count": null,
   "metadata": {
    "collapsed": false,
    "deletable": true,
    "editable": true
   },
   "outputs": [],
   "source": [
    "X = np.linspace(-5, 5, 40)\n",
    "Y = np.arange(-5, 5, 0.25)    # Equivalent way of defining a list of equi-spaced numbers\n",
    "X, Y = np.meshgrid(X, Y)\n",
    "R = np.sqrt(X**2 + Y**2)\n",
    "Z = np.sin(R)\n",
    "\n",
    "fig = plt.figure()\n",
    "ax = fig.gca(projection='3d')\n",
    "\n",
    "# Plot the surface.\n",
    "surf = ax.plot_surface(X, Y, Z, cmap=matplotlib.cm.coolwarm,\n",
    "                       linewidth=0, antialiased=False)\n",
    "\n",
    "# Customize the z axis.\n",
    "ax.set_zlim(-1.01, 1.01)\n",
    "\n",
    "# Add a color bar which maps values to colors.\n",
    "fig.colorbar(surf, shrink=0.5)\n",
    "\n",
    "plt.show()"
   ]
  },
  {
   "cell_type": "markdown",
   "metadata": {
    "deletable": true,
    "editable": true
   },
   "source": [
    "The rest is all about exploring the parameter space. Here we manually create a grid (this is necessary if we mix 2D, 3D or polar coordinates), and plot a bunch of things that Matplotlib can do. For more examples, refer to the [gallery](http://matplotlib.org/gallery.html)."
   ]
  },
  {
   "cell_type": "code",
   "execution_count": null,
   "metadata": {
    "collapsed": false,
    "deletable": true,
    "editable": true
   },
   "outputs": [],
   "source": [
    "# Some new data will be necessary\n",
    "n = np.random.randn(100000)\n",
    "t = np.linspace(0, 2 * np.pi, 100)\n",
    "X, Y = np.meshgrid(t, t)\n",
    "Z = (2.7 - 2 * np.cos(Y) * np.cos(X) - 0.7 * np.cos(np.pi - 2*Y)).T\n",
    "\n",
    "# The actual plot\n",
    "fig = plt.figure(figsize=(12, 6))\n",
    "axes = [[],[]]\n",
    "\n",
    "axes[0].append(fig.add_subplot(2, 4, 1))\n",
    "axes[0][0].scatter(x, x ** 2 + 0.25 * np.random.randn(len(x)))\n",
    "axes[0][0].set_title(\"Scatter\")\n",
    "\n",
    "axes[0].append(fig.add_subplot(2, 4, 2))\n",
    "axes[0][1].step(x, y1, lw=2)\n",
    "axes[0][1].set_title(\"Step\")\n",
    "\n",
    "axes[0].append(fig.add_subplot(2, 4, 3))\n",
    "axes[0][2].bar(x, y1, align=\"center\", width=0.5, alpha=0.5)\n",
    "axes[0][2].set_title(\"Bar\")\n",
    "\n",
    "axes[0].append(fig.add_subplot(2, 4, 4))\n",
    "axes[0][3].fill_between(x, y1, y2, color=\"green\", alpha=0.5);\n",
    "axes[0][3].set_title(\"Fill between\");\n",
    "\n",
    "axes[1].append(fig.add_subplot(2, 4, 5))\n",
    "axes[1][0].hist(n, bins=100)\n",
    "axes[1][0].set_title(\"Histogram\")\n",
    "axes[1][0].set_xlim((min(n), max(n)))\n",
    "\n",
    "axes[1].append(fig.add_subplot(2, 4, 6))\n",
    "axes[1][1].hist(n, bins=100, cumulative=True)\n",
    "axes[1][1].set_title(\"Cumulative histogram\")\n",
    "axes[1][1].set_xlim((min(n), max(n)))\n",
    "\n",
    "axes[1].append(fig.add_subplot(2, 4, 7))\n",
    "p = axes[1][2].pcolor(X / (2 * np.pi), Y / (2 * np.pi), Z, cmap=matplotlib.cm.RdBu, vmin=abs(Z).min(), vmax=abs(Z).max())\n",
    "axes[1][2].set_title(\"Color map\")\n",
    "fig.colorbar(p, ax=axes[1][2])\n",
    "\n",
    "axes[1].append(fig.add_subplot(2, 4, 8, polar=True))\n",
    "axes[1][3].plot(t, t, color='blue', lw=3);\n",
    "axes[1][3].set_title(\"Polar coordinates\")\n",
    "\n",
    "fig.tight_layout()\n",
    "plt.show()"
   ]
  },
  {
   "cell_type": "markdown",
   "metadata": {
    "deletable": true,
    "editable": true
   },
   "source": [
    "**Exercise 1**. Create a three by three grid. Put the BIST logo in the center. Surround him with aesthetically pleasing functions in the remaining subplots. Hint: `matplotlib.image.imread(\"http://bist.eu/wp-content/uploads/2016/05/BIST-7-centres-GRISOS.png\")` will get you the BIST logo, and the method `imshow` will plot it."
   ]
  },
  {
   "cell_type": "code",
   "execution_count": null,
   "metadata": {
    "collapsed": false,
    "deletable": true,
    "editable": true
   },
   "outputs": [],
   "source": [
    "# All the data has been loaded already, except for the image\n",
    "bist = matplotlib.image.imread(\"http://bist.eu/wp-content/uploads/2016/05/BIST-7-centres-GRISOS.png\")\n",
    "\n",
    "# The actual plot\n",
    "fig = plt.figure(figsize=(12, 12))\n",
    "axes = [[],[],[]]\n",
    "\n",
    "axes[0].append(fig.add_subplot(3, 3, 1))\n",
    "axes[0][0].scatter(x, x ** 2 + 0.25 * np.random.randn(len(x)))\n",
    "axes[0][0].set_title(\"Scatter\")\n",
    "\n",
    "axes[0].append(fig.add_subplot(3, 3, 2))\n",
    "axes[0][1].step(x, y1, lw=2)\n",
    "axes[0][1].set_title(\"Step\")\n",
    "\n",
    "axes[0].append(fig.add_subplot(3, 3, 3))\n",
    "axes[0][2].bar(x, y1, align=\"center\", width=0.5, alpha=0.5)\n",
    "axes[0][2].set_title(\"Bar\")\n",
    "\n",
    "axes[1].append(fig.add_subplot(3, 3, 4))\n",
    "axes[1][0].fill_between(x, y1, y2, color=\"green\", alpha=0.5);\n",
    "axes[1][0].set_title(\"Fill between\");\n",
    "\n",
    "axes[1].append(fig.add_subplot(3, 3, 5))\n",
    "axes[1][1].imshow(bist)\n",
    "axes[1][1].set_title(\"BIST\")\n",
    "\n",
    "axes[1].append(fig.add_subplot(3, 3, 6))\n",
    "axes[1][2].hist(n, bins=100)\n",
    "axes[1][2].set_title(\"Histogram\")\n",
    "axes[1][2].set_xlim((min(n), max(n)))\n",
    "\n",
    "axes[2].append(fig.add_subplot(3, 3, 7, projection='3d'))\n",
    "axes[2][0].plot_surface(X, Y, Z, rstride=1, cstride=1, cmap=matplotlib.cm.hot, linewidth=0, antialiased=False)\n",
    "axes[2][0].set_title(\"Surface\")\n",
    "\n",
    "axes[2].append(fig.add_subplot(3, 3, 8))\n",
    "p = axes[2][1].pcolor(X / (2 * np.pi), Y / (2 * np.pi), Z, cmap=matplotlib.cm.RdBu, vmin=abs(Z).min(), vmax=abs(Z).max())\n",
    "axes[2][1].set_title(\"Color map\")\n",
    "fig.colorbar(p, ax=axes[2][1])\n",
    "\n",
    "axes[2].append(fig.add_subplot(3, 3, 9, polar=True))\n",
    "axes[2][2].plot(t, t, color='blue', lw=3);\n",
    "axes[2][2].set_title(\"Polar coordinates\")\n",
    "\n",
    "fig.tight_layout()\n",
    "plt.show()"
   ]
  },
  {
   "cell_type": "markdown",
   "metadata": {
    "deletable": true,
    "editable": true
   },
   "source": [
    "2.2 Seaborn and Pandas\n",
    "-------------\n",
    "Seaborn is primarily meant for statistical plotting, but it also improves the defaults of all Matplotlib figures.\n",
    "\n",
    "**2.2.1 Side effect of importing it.**\n",
    " \n",
    "Witness the magic:"
   ]
  },
  {
   "cell_type": "code",
   "execution_count": null,
   "metadata": {
    "collapsed": false,
    "deletable": true,
    "editable": true
   },
   "outputs": [],
   "source": [
    "plt.plot(x, x**2)\n",
    "plt.show()\n",
    "import seaborn as sns\n",
    "plt.plot(x, x**2)\n",
    "plt.show()"
   ]
  },
  {
   "cell_type": "markdown",
   "metadata": {
    "deletable": true,
    "editable": true
   },
   "source": [
    "**2.2.2 Add Pandas**\n",
    "\n",
    "Pandas turns Python into a competitor to R. It allows you to do a wide-scale of statistical operations, but even more importantly, it makes low-level data processing chores easy. Here we load the standard Iris dataset from the web and convert it to a Pandas dataframe, which is the key data structure of the package."
   ]
  },
  {
   "cell_type": "code",
   "execution_count": null,
   "metadata": {
    "collapsed": false,
    "deletable": true,
    "editable": true
   },
   "outputs": [],
   "source": [
    "iris = pd.read_csv('https://archive.ics.uci.edu/ml/machine-learning-databases/iris/iris.data',\n",
    "                   names=['sepal length (cm)', 'sepal width (cm)', 'petal length (cm)', 'petal width (cm)', 'target'])\n",
    "iris.head()"
   ]
  },
  {
   "cell_type": "markdown",
   "metadata": {
    "deletable": true,
    "editable": true
   },
   "source": [
    "You can access individual columns by indexing with the name of the column:"
   ]
  },
  {
   "cell_type": "code",
   "execution_count": null,
   "metadata": {
    "collapsed": false,
    "deletable": true,
    "editable": true
   },
   "outputs": [],
   "source": [
    "iris[\"sepal length (cm)\"].head()"
   ]
  },
  {
   "cell_type": "markdown",
   "metadata": {
    "deletable": true,
    "editable": true
   },
   "source": [
    "We will use seaborn for some basic visualization"
   ]
  },
  {
   "cell_type": "code",
   "execution_count": null,
   "metadata": {
    "ExecuteTime": {
     "end_time": "2017-01-23T17:09:41.782760",
     "start_time": "2017-01-23T17:09:41.401724"
    },
    "collapsed": false,
    "deletable": true,
    "editable": true
   },
   "outputs": [],
   "source": [
    "sns.jointplot(x=\"sepal length (cm)\", y=\"sepal width (cm)\", data=iris, size=5);"
   ]
  },
  {
   "cell_type": "markdown",
   "metadata": {
    "deletable": true,
    "editable": true
   },
   "source": [
    "Let us define an array with all the names of the features and plot their correlations. "
   ]
  },
  {
   "cell_type": "code",
   "execution_count": null,
   "metadata": {
    "ExecuteTime": {
     "end_time": "2017-01-23T17:10:04.650076",
     "start_time": "2017-01-23T17:10:02.483697"
    },
    "collapsed": false,
    "deletable": true,
    "editable": true
   },
   "outputs": [],
   "source": [
    "features = iris.columns.values[:-1]\n",
    "sns.pairplot(iris, vars=features, hue=\"target\", size=3);"
   ]
  },
  {
   "cell_type": "markdown",
   "metadata": {
    "deletable": true,
    "editable": true
   },
   "source": [
    "**Exercise 2**. Plot the histogram of all four features. First, instantiate a Matplotlib figure in a one by four grid, and then pass the matching axes to Seaborn's `distplot` function that draws the histograms. A `figsize=(14, 4)` is a recommended parameter to `plt.subplots`, otherwise the figure will be too squished. Use `zip` to iterate over the axes and the features simultaneously."
   ]
  },
  {
   "cell_type": "code",
   "execution_count": null,
   "metadata": {
    "collapsed": false,
    "deletable": true,
    "editable": true
   },
   "outputs": [],
   "source": [
    "fig, ax = plt.subplots(1, 4, figsize=(14, 4))\n",
    "names = list(iris[:-1])\n",
    "for column, axes in zip(names, ax):\n",
    "    sns.distplot(iris[column].values, ax=axes)\n",
    "    axes.set_title(column)\n",
    "plt.show()"
   ]
  },
  {
   "cell_type": "markdown",
   "metadata": {
    "deletable": true,
    "editable": true
   },
   "source": [
    "The curve you see in the image is the kernel density estimation, the density function that better approximates the observed distribution\n",
    "\n",
    "You might have noticed by now than Seaborn not only produces nicer plots, but also sometimes performs some data analysis on its own. Recall the `jointplot` a few steps above, where we were getting the Pearson's $r$ coefficient and the corresponding $p$ value. There is a special argument that you can pass to `jointplot` to plot a more complete analysis with the regression line, confidence intervals and kernel density estimation, the `kind` option:"
   ]
  },
  {
   "cell_type": "code",
   "execution_count": null,
   "metadata": {
    "collapsed": false,
    "deletable": true,
    "editable": true
   },
   "outputs": [],
   "source": [
    "sns.jointplot(x=\"sepal length (cm)\", y=\"petal width (cm)\", data=iris, size=5, kind='reg');"
   ]
  },
  {
   "cell_type": "markdown",
   "metadata": {
    "deletable": true,
    "editable": true
   },
   "source": [
    "However, for general regression the most common plot is the `regplot`. It can perform linear and simple nonlinear regressions, eliminate outliers, and easily plot conditional data, among others. There is a nice tutorial on all these functionalities [here](https://seaborn.pydata.org/tutorial/regression.html).\n",
    "\n",
    "For instance, we can fit data to high-order polynomials by passing the argument `order`:"
   ]
  },
  {
   "cell_type": "code",
   "execution_count": null,
   "metadata": {
    "collapsed": false,
    "deletable": true,
    "editable": true,
    "scrolled": false
   },
   "outputs": [],
   "source": [
    "x = np.linspace(-6, 6, 100)\n",
    "y = x ** 4 + 2 * x ** 3 - 12 * x ** 2 - 2 * x + [6] * len(x)\n",
    "y = y + 100 * np.random.rand(len(x))\n",
    "\n",
    "sns.regplot(x, y, label='First-order')\n",
    "sns.regplot(x, y, order=2, label='Second-order')\n",
    "sns.regplot(x, y, order=3, label='Third-order')\n",
    "sns.regplot(x, y, order=4, label='Fourth-order')\n",
    "sns.regplot(x, y, fit_reg=False)    # Plot the data in another color\n",
    "\n",
    "plt.legend()\n",
    "plt.title('Nonlinear regressions')\n",
    "plt.show()"
   ]
  },
  {
   "cell_type": "markdown",
   "metadata": {
    "deletable": true,
    "editable": true
   },
   "source": [
    "**Exercise 3**. Plot the marginal distributions of `petal length` versus `sepal length` for each of the three families of  flowers. First plot the three of them in the same plot, then do it on separate subplots. Note that when you are doing the three on the same plot, you will have to modify your axes length to see all the data."
   ]
  },
  {
   "cell_type": "code",
   "execution_count": null,
   "metadata": {
    "collapsed": false,
    "deletable": true,
    "editable": true,
    "scrolled": false
   },
   "outputs": [],
   "source": [
    "# First three together\n",
    "plt.xlim(0.7, 7)\n",
    "plt.ylim(3, 8.5)\n",
    "sns.regplot(x=\"petal length (cm)\", y=\"sepal length (cm)\", data=iris.loc[iris['target']=='Iris-setosa'], label='Setosa')\n",
    "sns.regplot(x=\"petal length (cm)\", y=\"sepal length (cm)\", data=iris.loc[iris['target']=='Iris-versicolor'], label='Versicolor')\n",
    "sns.regplot(x=\"petal length (cm)\", y=\"sepal length (cm)\", data=iris.loc[iris['target']=='Iris-virginica'], label='Virginica')\n",
    "plt.legend()\n",
    "plt.show()\n",
    "\n",
    "# Now separate\n",
    "fig, ax = plt.subplots(ncols=3, figsize=(12,4))\n",
    "for i, type_ in enumerate(np.unique(iris['target'])):\n",
    "    sns.regplot(x=\"petal length (cm)\", y=\"sepal length (cm)\", data=iris.loc[iris['target']==type_], ax=ax[i])\n",
    "    ax[i].set_title=(type_)\n",
    "\n",
    "plt.tight_layout()\n",
    "plt.show()"
   ]
  }
 ],
 "metadata": {
  "kernelspec": {
   "display_name": "Python 3",
   "language": "python",
   "name": "python3"
  },
  "language_info": {
   "codemirror_mode": {
    "name": "ipython",
    "version": 3
   },
   "file_extension": ".py",
   "mimetype": "text/x-python",
   "name": "python",
   "nbconvert_exporter": "python",
   "pygments_lexer": "ipython3",
   "version": "3.5.2"
  }
 },
 "nbformat": 4,
 "nbformat_minor": 2
}
